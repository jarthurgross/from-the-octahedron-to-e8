{
 "cells": [
  {
   "cell_type": "markdown",
   "metadata": {},
   "source": [
    "# From the octahedron to $E_8$"
   ]
  },
  {
   "cell_type": "markdown",
   "metadata": {},
   "source": [
    "Try to work out the problem in John Carlos Baez's post <https://johncarlosbaez.wordpress.com/2020/03/20/from-the-octahedron-to-e8/>."
   ]
  },
  {
   "cell_type": "markdown",
   "metadata": {},
   "source": [
    "$a+b\\sqrt{2}+(c+d\\sqrt{2})i+(e+f\\sqrt{2})j+(g+h\\sqrt{2})k$"
   ]
  },
  {
   "cell_type": "code",
   "execution_count": 1,
   "metadata": {},
   "outputs": [],
   "source": [
    "from IPython.display import display, HTML\n",
    "import sympy as sy"
   ]
  },
  {
   "cell_type": "code",
   "execution_count": 2,
   "metadata": {},
   "outputs": [],
   "source": [
    "sy.init_printing()"
   ]
  },
  {
   "cell_type": "code",
   "execution_count": 3,
   "metadata": {},
   "outputs": [
    {
     "data": {
      "image/png": "[encoded data removed]",
      "text/latex": [
       "$\\displaystyle \\frac{1}{2}$"
      ],
      "text/plain": [
       "1/2"
      ]
     },
     "execution_count": 3,
     "metadata": {},
     "output_type": "execute_result"
    }
   ],
   "source": [
    "h = sy.S(1)/2\n",
    "h"
   ]
  },
  {
   "cell_type": "markdown",
   "metadata": {},
   "source": [
    "Express the vectors in the orthonormal basis."
   ]
  },
  {
   "cell_type": "code",
   "execution_count": 4,
   "metadata": {},
   "outputs": [],
   "source": [
    "v1 = sy.Matrix([h, 0, h, 0, h, 0, h, 0])\n",
    "v2 = sy.Matrix([0, h, 0, h, 0, 0, 0, 0])\n",
    "v3 = sy.Matrix([0, 0, 1, 0, 0, 0, 0, 0])\n",
    "v4 = sy.Matrix([0, 0, 0, h, 0, h, 0, 0])\n",
    "v5 = sy.Matrix([0, 0, 0, 0, 1, 0, 0, 0])\n",
    "v6 = sy.Matrix([0, 0, 0, 0, 0, h, 0, h])\n",
    "v7 = sy.Matrix([0, 0, 0, 0, 0, 0, 1, 0])\n",
    "v8 = sy.Matrix([0, 0, 0, 0, 0, 0, 0, 1])"
   ]
  },
  {
   "cell_type": "code",
   "execution_count": 5,
   "metadata": {},
   "outputs": [],
   "source": [
    "vs = {1: v1, 2: v2, 3: v3, 4: v4, 5: v5, 6: v6, 7: v7, 8: v8}"
   ]
  },
  {
   "cell_type": "markdown",
   "metadata": {},
   "source": [
    "Verify that they look like we mean them to."
   ]
  },
  {
   "cell_type": "code",
   "execution_count": 6,
   "metadata": {},
   "outputs": [],
   "source": [
    "def v_string(v):\n",
    "    i, j, k = sy.symbols('i j k')\n",
    "    s = sy.sqrt(2)\n",
    "    vec = sy.Matrix([1, s, i, i*s, j, j*s, k, k*s])\n",
    "    return sy.latex(sy.simplify((v.T @ vec)[0]))\n",
    "\n",
    "def display_v(v):\n",
    "    display(HTML('${}$'.format(v_string(v))))"
   ]
  },
  {
   "cell_type": "code",
   "execution_count": 7,
   "metadata": {},
   "outputs": [
    {
     "data": {
      "text/html": [
       "\\begin{align}v_{1}&=\\frac{i}{2} + \\frac{j}{2} + \\frac{k}{2} + \\frac{1}{2}\\\\v_{2}&=\\frac{\\sqrt{2} \\left(i + 1\\right)}{2}\\\\v_{3}&=i\\\\v_{4}&=\\frac{\\sqrt{2} \\left(i + j\\right)}{2}\\\\v_{5}&=j\\\\v_{6}&=\\frac{\\sqrt{2} \\left(j + k\\right)}{2}\\\\v_{7}&=k\\\\v_{8}&=\\sqrt{2} k\\end{align}"
      ],
      "text/plain": [
       "<IPython.core.display.HTML object>"
      ]
     },
     "metadata": {},
     "output_type": "display_data"
    }
   ],
   "source": [
    "display(HTML(r'\\begin{align}'\n",
    "             + r'\\\\'.join(['v_{{{}}}&={}'.format(n, v_string(vs[n])) for n in range(1, 8+1)])\n",
    "             + r'\\end{align}'))"
   ]
  },
  {
   "cell_type": "markdown",
   "metadata": {},
   "source": [
    "Calculate the Gram matrix."
   ]
  },
  {
   "cell_type": "code",
   "execution_count": 8,
   "metadata": {},
   "outputs": [
    {
     "data": {
      "image/png": "[encoded data removed]",
      "text/latex": [
       "$\\displaystyle \\left[\\begin{matrix}1 & 0 & \\frac{1}{2} & 0 & \\frac{1}{2} & 0 & \\frac{1}{2} & 0\\\\0 & \\frac{1}{2} & 0 & \\frac{1}{4} & 0 & 0 & 0 & 0\\\\\\frac{1}{2} & 0 & 1 & 0 & 0 & 0 & 0 & 0\\\\0 & \\frac{1}{4} & 0 & \\frac{1}{2} & 0 & \\frac{1}{4} & 0 & 0\\\\\\frac{1}{2} & 0 & 0 & 0 & 1 & 0 & 0 & 0\\\\0 & 0 & 0 & \\frac{1}{4} & 0 & \\frac{1}{2} & 0 & \\frac{1}{2}\\\\\\frac{1}{2} & 0 & 0 & 0 & 0 & 0 & 1 & 0\\\\0 & 0 & 0 & 0 & 0 & \\frac{1}{2} & 0 & 1\\end{matrix}\\right]$"
      ],
      "text/plain": [
       "⎡ 1    0   1/2   0   1/2   0   1/2   0 ⎤\n",
       "⎢                                      ⎥\n",
       "⎢ 0   1/2   0   1/4   0    0    0    0 ⎥\n",
       "⎢                                      ⎥\n",
       "⎢1/2   0    1    0    0    0    0    0 ⎥\n",
       "⎢                                      ⎥\n",
       "⎢ 0   1/4   0   1/2   0   1/4   0    0 ⎥\n",
       "⎢                                      ⎥\n",
       "⎢1/2   0    0    0    1    0    0    0 ⎥\n",
       "⎢                                      ⎥\n",
       "⎢ 0    0    0   1/4   0   1/2   0   1/2⎥\n",
       "⎢                                      ⎥\n",
       "⎢1/2   0    0    0    0    0    1    0 ⎥\n",
       "⎢                                      ⎥\n",
       "⎣ 0    0    0    0    0   1/2   0    1 ⎦"
      ]
     },
     "execution_count": 8,
     "metadata": {},
     "output_type": "execute_result"
    }
   ],
   "source": [
    "bad_gram_matrix = sy.Matrix([[sy.simplify((vs[m].T @ vs[n])[0])\n",
    "                              for n in range(1, 8+1)]\n",
    "                             for m in range(1, 8+1)])\n",
    "bad_gram_matrix"
   ]
  },
  {
   "cell_type": "markdown",
   "metadata": {},
   "source": [
    "I think the inner product JCB gives in his post is not the same inner product as David Harden is using in his MathOverflow question <https://mathoverflow.net/q/353486>."
   ]
  },
  {
   "cell_type": "markdown",
   "metadata": {},
   "source": [
    "\\begin{align}\n",
    "    \\mathrm{QN}\\left(a+b\\sqrt{2}+(c+d\\sqrt{2})i+(e+f\\sqrt{2})j+(g+h\\sqrt{2})k\\right)\n",
    "    &=\n",
    "    a^2+2b^2+2ab\\sqrt{2}+c^2+2d^2+2cd\\sqrt{2}\n",
    "    \\\\\n",
    "    &\n",
    "    +e^2+2f^2+2ef\\sqrt{2}+g^2+2h^2+2gh\\sqrt{2}\n",
    "\\end{align}"
   ]
  },
  {
   "cell_type": "code",
   "execution_count": 9,
   "metadata": {},
   "outputs": [],
   "source": [
    "def QN(v):\n",
    "    return sy.Matrix([sum([v[n]**2 for n in [0, 2, 4, 6]])\n",
    "                      + 2*sum([v[n]**2 for n in [1, 3, 5, 7]]),\n",
    "                      sum([2*v[n]*v[n+1] for n in [0, 2, 4, 6]])])\n",
    "\n",
    "def EN(u):\n",
    "    return sum(u)"
   ]
  },
  {
   "cell_type": "code",
   "execution_count": 10,
   "metadata": {},
   "outputs": [
    {
     "data": {
      "image/png": "[encoded data removed]",
      "text/latex": [
       "$\\displaystyle \\left[\\begin{matrix}1\\\\0\\end{matrix}\\right]$"
      ],
      "text/plain": [
       "⎡1⎤\n",
       "⎢ ⎥\n",
       "⎣0⎦"
      ]
     },
     "execution_count": 10,
     "metadata": {},
     "output_type": "execute_result"
    }
   ],
   "source": [
    "QN(vs[1])"
   ]
  },
  {
   "cell_type": "code",
   "execution_count": 11,
   "metadata": {},
   "outputs": [
    {
     "data": {
      "image/png": "[encoded data removed]",
      "text/latex": [
       "$\\displaystyle 2$"
      ],
      "text/plain": [
       "2"
      ]
     },
     "execution_count": 11,
     "metadata": {},
     "output_type": "execute_result"
    }
   ],
   "source": [
    "EN(QN(vs[1] + vs[1])) - EN(QN(vs[1])) - EN(QN(vs[1]))"
   ]
  },
  {
   "cell_type": "code",
   "execution_count": 12,
   "metadata": {},
   "outputs": [],
   "source": [
    "def inner_prod(x, y):\n",
    "    return EN(QN(x + y)) - EN(QN(x)) - EN(QN(y))"
   ]
  },
  {
   "cell_type": "code",
   "execution_count": 13,
   "metadata": {},
   "outputs": [
    {
     "data": {
      "image/png": "[encoded data removed]",
      "text/latex": [
       "$\\displaystyle \\left[\\begin{matrix}2 & 1 & 1 & 1 & 1 & 1 & 1 & 1\\\\1 & 2 & 1 & 1 & 0 & 0 & 0 & 0\\\\1 & 1 & 2 & 1 & 0 & 0 & 0 & 0\\\\1 & 1 & 1 & 2 & 1 & 1 & 0 & 0\\\\1 & 0 & 0 & 1 & 2 & 1 & 0 & 0\\\\1 & 0 & 0 & 1 & 1 & 2 & 1 & 2\\\\1 & 0 & 0 & 0 & 0 & 1 & 2 & 2\\\\1 & 0 & 0 & 0 & 0 & 2 & 2 & 4\\end{matrix}\\right]$"
      ],
      "text/plain": [
       "⎡2  1  1  1  1  1  1  1⎤\n",
       "⎢                      ⎥\n",
       "⎢1  2  1  1  0  0  0  0⎥\n",
       "⎢                      ⎥\n",
       "⎢1  1  2  1  0  0  0  0⎥\n",
       "⎢                      ⎥\n",
       "⎢1  1  1  2  1  1  0  0⎥\n",
       "⎢                      ⎥\n",
       "⎢1  0  0  1  2  1  0  0⎥\n",
       "⎢                      ⎥\n",
       "⎢1  0  0  1  1  2  1  2⎥\n",
       "⎢                      ⎥\n",
       "⎢1  0  0  0  0  1  2  2⎥\n",
       "⎢                      ⎥\n",
       "⎣1  0  0  0  0  2  2  4⎦"
      ]
     },
     "execution_count": 13,
     "metadata": {},
     "output_type": "execute_result"
    }
   ],
   "source": [
    "good_gram_matrix = sy.Matrix([[sy.simplify(inner_prod(vs[m], vs[n]))\n",
    "                               for n in range(1, 8+1)]\n",
    "                              for m in range(1, 8+1)])\n",
    "good_gram_matrix"
   ]
  },
  {
   "cell_type": "code",
   "execution_count": 14,
   "metadata": {},
   "outputs": [
    {
     "data": {
      "image/png": "[encoded data removed]",
      "text/latex": [
       "$\\displaystyle \\left[\\begin{matrix}\\frac{1}{2} & 0 & \\frac{1}{2} & 0 & \\frac{1}{2} & 0 & \\frac{1}{2} & 0\\\\0 & \\frac{1}{2} & 0 & \\frac{1}{2} & 0 & 0 & 0 & 0\\\\0 & 0 & 1 & 0 & 0 & 0 & 0 & 0\\\\0 & 0 & 0 & \\frac{1}{2} & 0 & \\frac{1}{2} & 0 & 0\\\\0 & 0 & 0 & 0 & 1 & 0 & 0 & 0\\\\0 & 0 & 0 & 0 & 0 & \\frac{1}{2} & 0 & \\frac{1}{2}\\\\0 & 0 & 0 & 0 & 0 & 0 & 1 & 0\\\\0 & 0 & 0 & 0 & 0 & 0 & 0 & 1\\end{matrix}\\right]$"
      ],
      "text/plain": [
       "⎡1/2   0   1/2   0   1/2   0   1/2   0 ⎤\n",
       "⎢                                      ⎥\n",
       "⎢ 0   1/2   0   1/2   0    0    0    0 ⎥\n",
       "⎢                                      ⎥\n",
       "⎢ 0    0    1    0    0    0    0    0 ⎥\n",
       "⎢                                      ⎥\n",
       "⎢ 0    0    0   1/2   0   1/2   0    0 ⎥\n",
       "⎢                                      ⎥\n",
       "⎢ 0    0    0    0    1    0    0    0 ⎥\n",
       "⎢                                      ⎥\n",
       "⎢ 0    0    0    0    0   1/2   0   1/2⎥\n",
       "⎢                                      ⎥\n",
       "⎢ 0    0    0    0    0    0    1    0 ⎥\n",
       "⎢                                      ⎥\n",
       "⎣ 0    0    0    0    0    0    0    1 ⎦"
      ]
     },
     "execution_count": 14,
     "metadata": {},
     "output_type": "execute_result"
    }
   ],
   "source": [
    "gen_matrix = sy.Matrix([vs[n].T for n in range(1, 8+1)])\n",
    "gen_matrix"
   ]
  },
  {
   "cell_type": "code",
   "execution_count": 15,
   "metadata": {},
   "outputs": [
    {
     "data": {
      "image/png": "[encoded data removed]",
      "text/latex": [
       "$\\displaystyle \\frac{1}{16}$"
      ],
      "text/plain": [
       "1/16"
      ]
     },
     "execution_count": 15,
     "metadata": {},
     "output_type": "execute_result"
    }
   ],
   "source": [
    "gen_matrix.det()"
   ]
  },
  {
   "cell_type": "markdown",
   "metadata": {},
   "source": [
    "David Harden indicates that it's the Gram matrix that needs to have determinant 1:"
   ]
  },
  {
   "cell_type": "code",
   "execution_count": 16,
   "metadata": {},
   "outputs": [
    {
     "data": {
      "image/png": "[encoded data removed]",
      "text/latex": [
       "$\\displaystyle 1$"
      ],
      "text/plain": [
       "1"
      ]
     },
     "execution_count": 16,
     "metadata": {},
     "output_type": "execute_result"
    }
   ],
   "source": [
    "good_gram_matrix.det()"
   ]
  },
  {
   "cell_type": "code",
   "execution_count": null,
   "metadata": {},
   "outputs": [],
   "source": []
  }
 ],
 "metadata": {
  "kernelspec": {
   "display_name": "Python [conda env:root] *",
   "language": "python",
   "name": "conda-root-py"
  },
  "language_info": {
   "codemirror_mode": {
    "name": "ipython",
    "version": 3
   },
   "file_extension": ".py",
   "mimetype": "text/x-python",
   "name": "python",
   "nbconvert_exporter": "python",
   "pygments_lexer": "ipython3",
   "version": "3.7.3"
  }
 },
 "nbformat": 4,
 "nbformat_minor": 4
}
